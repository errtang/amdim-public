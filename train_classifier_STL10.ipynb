{
 "cells": [
  {
   "cell_type": "code",
   "execution_count": 5,
   "metadata": {},
   "outputs": [],
   "source": [
    "import os\n",
    "import argparse\n",
    "\n",
    "import torch\n",
    "\n",
    "import mixed_precision\n",
    "from stats import StatTracker\n",
    "from datasets import Dataset, build_dataset, get_dataset, get_encoder_size\n",
    "from model import Model\n",
    "from checkpoint import Checkpointer\n",
    "from task_self_supervised import train_self_supervised\n",
    "from task_classifiers import train_classifiers\n",
    "from task_unsupervised import train_unsupervised"
   ]
  },
  {
   "cell_type": "code",
   "execution_count": 8,
   "metadata": {},
   "outputs": [],
   "source": [
    "# training parameters\n",
    "output_dir = './runs'\n",
    "is_amp = True\n",
    "seed = 1\n",
    "dataset_name = 'STL10'\n",
    "run_name = 'default_run'\n",
    "stl10_batch_size = 200\n",
    "input_dir = '/mnt/imagenet'\n",
    "is_train_classifiers = False\n",
    "input_ndf = 128  # feature width for encoder\n",
    "input_n_rkhs = 1024\n",
    "input_tclip = 20.0\n",
    "input_n_depth = 3\n",
    "used_batchnorm = False\n",
    "input_learning_rate = 0.0002\n",
    "\n",
    "def main():\n",
    "    if not os.path.isdir(output_dir):\n",
    "            os.mkdir(output_dir)\n",
    "\n",
    "    # enable mixed-precision computation if desired\n",
    "    if is_amp:\n",
    "        mixed_precision.enable_mixed_precision()\n",
    "\n",
    "    # set the RNG seeds (probably more hidden elsewhere...)\n",
    "    torch.manual_seed(seed)\n",
    "    torch.cuda.manual_seed(seed)\n",
    "\n",
    "    # get the dataset\n",
    "    dataset = get_dataset(dataset_name)\n",
    "    encoder_size = get_encoder_size(dataset)\n",
    "\n",
    "    # get a helper object for tensorboard logging\n",
    "    log_dir = os.path.join(output_dir, run_name)\n",
    "    stat_tracker = StatTracker(log_dir=log_dir)\n",
    "\n",
    "    # get dataloaders for training and testing\n",
    "    train_loader, test_loader, num_classes = \\\n",
    "        build_dataset(dataset=dataset,\n",
    "                      batch_size=stl10_batch_size,\n",
    "                      input_dir=input_dir,\n",
    "                      labeled_only=is_train_classifiers)\n",
    "\n",
    "    torch_device = torch.device('cuda')\n",
    "    checkpointer = Checkpointer(output_dir)\n",
    "\n",
    "    # create new model with random parameters\n",
    "    model = Model(ndf=input_ndf, n_classes=num_classes, n_rkhs=input_n_rkhs,\n",
    "                tclip=input_tclip, n_depth=input_n_depth, encoder_size=encoder_size,\n",
    "                use_bn=used_batchnorm)\n",
    "    model.init_weights(init_scale=1.0)\n",
    "    checkpointer.track_new_model(model)\n",
    "\n",
    "\n",
    "    model = model.to(torch_device)\n",
    "\n",
    "    # select which type of training to do\n",
    "    task = train_classifiers\n",
    "    task(model, input_learning_rate, dataset, train_loader,\n",
    "         test_loader, stat_tracker, checkpointer, output_dir, torch_device)"
   ]
  },
  {
   "cell_type": "code",
   "execution_count": null,
   "metadata": {},
   "outputs": [
    {
     "name": "stdout",
     "output_type": "stream",
     "text": [
      "log_dir: ./runs/default_run\n",
      "Files already downloaded and verified\n",
      "Files already downloaded and verified\n",
      "Using a 64x64 encoder\n",
      "Epoch 0, 100 updates -- 0.2052 sec/update\n"
     ]
    }
   ],
   "source": [
    "if __name__ == \"__main__\":\n",
    "    main()"
   ]
  },
  {
   "cell_type": "code",
   "execution_count": null,
   "metadata": {},
   "outputs": [],
   "source": []
  }
 ],
 "metadata": {
  "kernelspec": {
   "display_name": "Python 3",
   "language": "python",
   "name": "python3"
  },
  "language_info": {
   "codemirror_mode": {
    "name": "ipython",
    "version": 3
   },
   "file_extension": ".py",
   "mimetype": "text/x-python",
   "name": "python",
   "nbconvert_exporter": "python",
   "pygments_lexer": "ipython3",
   "version": "3.6.8"
  }
 },
 "nbformat": 4,
 "nbformat_minor": 4
}
