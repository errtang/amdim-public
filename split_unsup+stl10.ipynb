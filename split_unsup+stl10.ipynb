{
 "cells": [
  {
   "cell_type": "code",
   "execution_count": 9,
   "metadata": {},
   "outputs": [],
   "source": [
    "import os\n",
    "import argparse\n",
    "\n",
    "import torch\n",
    "\n",
    "import mixed_precision\n",
    "from stats import StatTracker\n",
    "from datasets import Dataset, build_dataset, get_dataset, get_encoder_size\n",
    "from model import Model\n",
    "from checkpoint import Checkpointer\n",
    "from task_self_supervised import train_self_supervised\n",
    "from task_classifiers import train_classifiers\n",
    "from task_unsupervised import train_unsupervised"
   ]
  },
  {
   "cell_type": "code",
   "execution_count": null,
   "metadata": {},
   "outputs": [
    {
     "name": "stdout",
     "output_type": "stream",
     "text": [
      "log_dir: ./logs\n",
      "Files already downloaded and verified\n"
     ]
    }
   ],
   "source": [
    "# create target output dir if it doesn't exist yet\n",
    "training_checkpoint_dir = './checkpoint'\n",
    "if not os.path.isdir(training_checkpoint_dir):\n",
    "    os.mkdir(training_checkpoint_dir)\n",
    "\n",
    "# enable mixed-precision computation\n",
    "mixed_precision.enable_mixed_precision()\n",
    "\n",
    "# set the RNG seeds (probably more hidden elsewhere...)\n",
    "torch.manual_seed(1)\n",
    "torch.cuda.manual_seed(1)\n",
    "\n",
    "# get encoder training dataset\n",
    "yfcc_dataset = get_dataset('YFCC100M')\n",
    "yfcc_encoder_size = get_encoder_size(yfcc_dataset)\n",
    "\n",
    "# get classifier training dataset\n",
    "stl10_dataset = get_dataset('STL10')\n",
    "stl10_encoder_size = get_encoder_size(stl10_dataset)\n",
    "\n",
    "# get a helper object for tensorboard logging\n",
    "stat_tracker = StatTracker(log_dir='./logs')\n",
    "\n",
    "# get dataloaders for training AMDIM's encoder module\n",
    "yfcc_train_loader, yfcc_test_loader, yfcc_num_classes = \\\n",
    "    build_dataset(dataset=yfcc_dataset,\n",
    "                  batch_size=4,\n",
    "                  input_dir='./yfcc100m',\n",
    "                  labeled_only=False)\n",
    "\n",
    "# get dataloaders for testing the classifier\n",
    "stl10_train_loader, stl10_test_loader, stl10_num_classes = \\\n",
    "    build_dataset(dataset=stl10_dataset,\n",
    "                  batch_size=200,\n",
    "                  labeled_only=True)\n",
    "\n",
    "torch_device = torch.device('cuda')\n",
    "checkpointer = Checkpointer(training_checkpoint_dir)\n",
    "\n",
    "# create new unsupervised model with random parameters\n",
    "encoder_model = Model(\n",
    "                    ndf=128, \n",
    "                    n_classes=yfcc_num_classes, \n",
    "                    n_rkhs=1024,\n",
    "                    tclip=20.0, \n",
    "                    n_depth=3, \n",
    "                    encoder_size=yfcc_encoder_size,\n",
    "                    use_bn=False)\n",
    "\n",
    "encoder_model.init_weights(init_scale=1.0)\n",
    "checkpointer.track_new_model(encoder_model)\n",
    "\n",
    "# train encoder model\n",
    "encoder_model = encoder_model.to(torch_device)\n",
    "\n",
    "train_encoder_task = train_unsupervised\n",
    "train_encoder_task(encoder_model, 0.0002, yfcc_dataset, yfcc_train_loader,\n",
    "     yfcc_test_loader, stat_tracker, checkpointer, training_checkpoint_dir, torch_device)"
   ]
  },
  {
   "cell_type": "code",
   "execution_count": 4,
   "metadata": {},
   "outputs": [],
   "source": [
    "# # train classifier model\n",
    "# encoder_model_path = os.path.join(training_checkpoint_dir, 'amdim_cpt.pth')\n",
    "# classifier_model = checkpointer.restore_model_from_checkpoint(encoder_model_path, training_classifier=True)\n",
    "# classifier_model = classifier_model.to(torch_device)\n",
    "\n",
    "# train_classifier_task = train_classifiers\n",
    "# train_classifier_task(classifier_model, 0.0002, stl10_dataset, stl10_train_loader,\n",
    "#     stl10_test_loader, stat_tracker, checkpointer, training_checkpoint_dir, torch_device)"
   ]
  },
  {
   "cell_type": "code",
   "execution_count": null,
   "metadata": {},
   "outputs": [],
   "source": []
  }
 ],
 "metadata": {
  "kernelspec": {
   "display_name": "Python 3",
   "language": "python",
   "name": "python3"
  },
  "language_info": {
   "codemirror_mode": {
    "name": "ipython",
    "version": 3
   },
   "file_extension": ".py",
   "mimetype": "text/x-python",
   "name": "python",
   "nbconvert_exporter": "python",
   "pygments_lexer": "ipython3",
   "version": "3.6.8"
  }
 },
 "nbformat": 4,
 "nbformat_minor": 4
}
